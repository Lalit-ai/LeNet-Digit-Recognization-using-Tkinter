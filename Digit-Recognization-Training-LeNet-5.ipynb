{
 "cells": [
  {
   "cell_type": "code",
   "execution_count": null,
   "metadata": {},
   "outputs": [],
   "source": [
    "#Importing Libraries\n",
    "import datetime\n",
    "import numpy as np\n",
    "import tensorflow as tf\n",
    "import matplotlib.pyplot as plt\n",
    "\n",
    "#Importing Model Framework Library\n",
    "from keras.callbacks import TensorBoard\n",
    "from tensorflow.keras import Model\n",
    "from tensorflow.keras.models import Sequential\n",
    "from tensorflow.keras.losses import categorical_crossentropy\n",
    "from tensorflow.keras.layers import Dense, Flatten, Conv2D,MaxPooling2D\n",
    "\n",
    "from tensorflow.keras import datasets\n",
    "from tensorflow.keras.utils import to_categorical"
   ]
  },
  {
   "cell_type": "code",
   "execution_count": null,
   "metadata": {},
   "outputs": [],
   "source": [
    "(x_train, y_train),(x_test,y_test) = datasets.mnist.load_data()"
   ]
  },
  {
   "cell_type": "code",
   "execution_count": null,
   "metadata": {},
   "outputs": [],
   "source": [
    "print('x_train Shape: ',x_train.shape)\n",
    "print('y_train Shape: ',y_train.shape)\n",
    "print('x_test Shape: ',x_test.shape)\n",
    "print('y_test Shape: ',y_test.shape)"
   ]
  },
  {
   "cell_type": "code",
   "execution_count": null,
   "metadata": {},
   "outputs": [],
   "source": [
    "print('Train samples: ',x_train.shape[0])\n",
    "print('Test samples: ',x_test.shape[0])\n",
    "print('Image Dimension: ',x_train[0].shape)"
   ]
  },
  {
   "cell_type": "code",
   "execution_count": null,
   "metadata": {},
   "outputs": [],
   "source": [
    "example = [0,9856,50587]\n",
    "\n",
    "for _ in example:\n",
    "    plt.figure()\n",
    "    plt.imshow(x_train[_],cmap='Greys')\n",
    "    plt.colorbar()\n",
    "    plt.grid(False)\n",
    "    plt.show()\n",
    "    print(y_train[_])"
   ]
  },
  {
   "cell_type": "code",
   "execution_count": null,
   "metadata": {},
   "outputs": [],
   "source": [
    "x_train = x_train[:, :, :, np.newaxis]\n",
    "x_test = x_test[:, :, :, np.newaxis]\n",
    "\n",
    "print('x_train shape:', x_train.shape)\n",
    "print(x_train[0].shape, 'image shape')"
   ]
  },
  {
   "cell_type": "code",
   "execution_count": null,
   "metadata": {},
   "outputs": [],
   "source": [
    "print(y_train)\n",
    "print(y_test)"
   ]
  },
  {
   "cell_type": "code",
   "execution_count": null,
   "metadata": {},
   "outputs": [],
   "source": [
    "#Convert class vectors to binary class matrices(i.e. One hot encoding)\n",
    "\n",
    "num_classes = 10 #[0,1,2,3,4,5,6,7,8,9]\n",
    "y_train = to_categorical(y_train, num_classes)\n",
    "y_test = to_categorical(y_test, num_classes)"
   ]
  },
  {
   "cell_type": "code",
   "execution_count": null,
   "metadata": {},
   "outputs": [],
   "source": [
    "print(y_train[0])\n",
    "print(y_train[2])"
   ]
  },
  {
   "cell_type": "code",
   "execution_count": null,
   "metadata": {},
   "outputs": [],
   "source": [
    "#Data normalization\n",
    "x_train = x_train.astype('float32')\n",
    "x_test = x_test.astype('float32')\n",
    "\n",
    "#Pixel Value ranges form 0 to 255.(0- White & 255 - Black)\n",
    "# As images are in 1 Channel i.e. GrayScale\n",
    "#Converting pixel value to 0 to 1 (0- White & 1 - Black)\n",
    "x_train /= 255\n",
    "x_test /= 255"
   ]
  },
  {
   "cell_type": "code",
   "execution_count": null,
   "metadata": {},
   "outputs": [],
   "source": [
    "#Define LeNet Architecture\n",
    "# Lenet Arch:\n",
    "# Conv => Relu => Max Pool => Conv => Relu => Max Pool => FC => FC => Softmax\n",
    "#In LeNet Architecture, Average Pooling is used instead of Max Pooling\n",
    "#Activate Relu is used instead of Tanh.. for increasing accuarcy\n",
    "\n",
    "def LeNet(input_shape,nb_classes):\n",
    "    model = Sequential()\n",
    "    model.add(Conv2D(6, kernel_size=(5,5), strides = (1,1), activation = \"relu\",input_shape = input_shape, padding = \"same\", name=\"Conv2D_layer1\"))\n",
    "    model.add(MaxPooling2D(pool_size = (2,2), strides = (2,2), padding = \"valid\",name=\"Pool_layer1\"))\n",
    "    model.add(Conv2D(16, kernel_size = (5,5), strides = (1,1), activation = 'relu', padding='valid',name=\"Conv2D_layer2\"))\n",
    "    model.add(MaxPooling2D(pool_size=(2,2), strides = (2,2), padding = 'valid',name=\"Pool_layer2\"))\n",
    "    model.add(Flatten())\n",
    "    model.add(Dense(120, activation = 'relu',name=\"Dense_1\"))\n",
    "    model.add(Dense(84, activation = 'relu',name=\"Dense_2\"))\n",
    "    model.add(Dense(nb_classes, activation = 'softmax',name=\"Output_layer\"))\n",
    "    model.compile(optimizer = 'adam',loss = categorical_crossentropy, metrics = ['accuracy'])\n",
    "    return model"
   ]
  },
  {
   "cell_type": "code",
   "execution_count": null,
   "metadata": {},
   "outputs": [],
   "source": [
    "model = LeNet(x_train[0].shape, num_classes)"
   ]
  },
  {
   "cell_type": "code",
   "execution_count": null,
   "metadata": {},
   "outputs": [],
   "source": [
    "model.summary()"
   ]
  },
  {
   "cell_type": "code",
   "execution_count": null,
   "metadata": {},
   "outputs": [],
   "source": [
    "tensorboard = TensorBoard(log_dir='logs/')"
   ]
  },
  {
   "cell_type": "code",
   "execution_count": null,
   "metadata": {
    "scrolled": true
   },
   "outputs": [],
   "source": [
    "model.fit(x_train,y= y_train, epochs=20,validation_data=(x_test, y_test), callbacks=[tensorboard])"
   ]
  },
  {
   "cell_type": "code",
   "execution_count": null,
   "metadata": {},
   "outputs": [],
   "source": [
    "%load_ext tensorboard\n",
    "%tensorboard --logdir log_dir  --host localhost"
   ]
  },
  {
   "cell_type": "code",
   "execution_count": null,
   "metadata": {},
   "outputs": [],
   "source": [
    "class_names = [0,1,2,3,4,5,6,7,8,9]\n",
    "prediction_values = model.predict_classes(x_test)\n",
    "\n",
    "# set up the figure\n",
    "fig = plt.figure(figsize=(15, 7))\n",
    "fig.subplots_adjust(left=0, right=1, bottom=0, top=1, hspace=0.05, wspace=0.05)\n",
    "\n",
    "# plot the images: each image is 28x28 pixels\n",
    "for i in range(50):\n",
    "    ax = fig.add_subplot(5, 10, i + 1, xticks=[], yticks=[])\n",
    "    ax.imshow(x_test[i,:].reshape((28,28)),cmap=plt.cm.gray_r, interpolation='nearest')\n",
    "  \n",
    "    if prediction_values[i] == np.argmax(y_test[i]):\n",
    "        # label the image with the blue text\n",
    "        ax.text(0, 7, class_names[prediction_values[i]], color='blue')\n",
    "    else:\n",
    "        # label the image with the red text\n",
    "        ax.text(0, 7, class_names[prediction_values[i]], color='red')"
   ]
  },
  {
   "cell_type": "code",
   "execution_count": null,
   "metadata": {},
   "outputs": [],
   "source": [
    "test_result = [0,985,1000]\n",
    "\n",
    "for _ in test_result:\n",
    "    plt.figure()\n",
    "    plt.imshow(x_test[_].reshape(28,28),cmap='Greys')\n",
    "    plt.colorbar()\n",
    "    plt.grid(False)\n",
    "    plt.show()\n",
    "    print('Expected : ',np.argmax(y_test[_],axis=-1))\n",
    "    print('Prediction : ',prediction_values[_])"
   ]
  },
  {
   "cell_type": "code",
   "execution_count": null,
   "metadata": {},
   "outputs": [],
   "source": [
    "#Save your Model in .h5 format and delete it\n",
    "model.save(\"Digit-mnist-LeNet.h5\")\n",
    "del model"
   ]
  }
 ],
 "metadata": {
  "kernelspec": {
   "display_name": "Python 3",
   "language": "python",
   "name": "python3"
  },
  "language_info": {
   "codemirror_mode": {
    "name": "ipython",
    "version": 3
   },
   "file_extension": ".py",
   "mimetype": "text/x-python",
   "name": "python",
   "nbconvert_exporter": "python",
   "pygments_lexer": "ipython3",
   "version": "3.7.5"
  }
 },
 "nbformat": 4,
 "nbformat_minor": 2
}
